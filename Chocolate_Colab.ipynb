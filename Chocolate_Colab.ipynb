{
  "nbformat": 4,
  "nbformat_minor": 0,
  "metadata": {
    "colab": {
      "provenance": [],
      "include_colab_link": true
    },
    "kernelspec": {
      "name": "python3",
      "display_name": "Python 3"
    },
    "language_info": {
      "name": "python"
    }
  },
  "cells": [
    {
      "cell_type": "markdown",
      "metadata": {
        "id": "view-in-github",
        "colab_type": "text"
      },
      "source": [
        "<a href=\"https://colab.research.google.com/github/GabrielleRab/youth_initiatives/blob/main/Chocolate_Colab.ipynb\" target=\"_parent\"><img src=\"https://colab.research.google.com/assets/colab-badge.svg\" alt=\"Open In Colab\"/></a>"
      ]
    },
    {
      "cell_type": "markdown",
      "source": [
        "# **Learning about chocolate with Python** \n",
        "\n",
        "You are going to explore a dataset about chocolate based on chocolate tastings conducted by the Manhattan Chocolate Society. According to [their website](http://flavorsofcacao.com/mcs_index.html):\n",
        "\n",
        "\"The Manhattan Chocolate Society, through research and tastings of fine chocolate, examines what is responsible for particular characteristics in chocolate whether they are due to specific growing regions, cacao genetics, manufacturer or some other cause.\"\n",
        "\n",
        "But first, let's learn a little bit about colabs..."
      ],
      "metadata": {
        "id": "4t_XJIR2rJ_T"
      }
    },
    {
      "cell_type": "markdown",
      "source": [
        "All the text and code in a colab is written in cells. (Even these words you are reading are inside of a text cell!) In order for any of the code in a colab to execute, you need to **run** its cell. \n",
        "\n",
        "Let's practice. Run the code cell below by pressing the \"play\" button on the left:"
      ],
      "metadata": {
        "id": "bvtZUdQkrgIJ"
      }
    },
    {
      "cell_type": "code",
      "source": [
        "print(\"hello world!\")"
      ],
      "metadata": {
        "id": "FImYw3jkr1T2"
      },
      "execution_count": null,
      "outputs": []
    },
    {
      "cell_type": "markdown",
      "source": [
        "Congratulations! You just ran some Python code!\n",
        "\n",
        "You'll notice a little [1] on the left side of the cell now. That means its the first code cell you've run. If you run it again, that number will change to a [2] because it is now the *second* code cell you've run. In general, you should only run each code cell a single time unless instructed to do otherwise."
      ],
      "metadata": {
        "id": "jIGKiIXVr8Tt"
      }
    },
    {
      "cell_type": "markdown",
      "source": [
        "## Importing libraries\n",
        "\n",
        "Now let's run some code we will need to work with the exoplanets dataset. In Python, you can access a lot of pre-written commands by importing *libraries*, or bundles of commands. Let's import the libraries we will need. \n",
        "\n",
        "Go ahead and run the next code cell:"
      ],
      "metadata": {
        "id": "M_4Y5tW4st19"
      }
    },
    {
      "cell_type": "code",
      "execution_count": 2,
      "metadata": {
        "id": "Vmg1iNzZ6fAY"
      },
      "outputs": [],
      "source": [
        "# import the necessary python libraries\n",
        "import pandas as pd\n",
        "import seaborn as sns"
      ]
    },
    {
      "cell_type": "markdown",
      "source": [
        "## Loading the data\n",
        "\n",
        "Next we will load in the dataset. This is the same data we've been working with in Google Sheets, but this time we will turn it into a *data frame* which is a fancy way of describing a spread sheet that Python can read.\n",
        "\n",
        "Run this code to import and preview the data frame:"
      ],
      "metadata": {
        "id": "aFXiNsNus5ph"
      }
    },
    {
      "cell_type": "code",
      "source": [
        "# load in the data and create a data frame called \"df\"\n",
        "df = pd.read_csv(\"https://raw.githubusercontent.com/GabrielleRab/youth_initiatives/main/anthrobytes/Chocolate_ratings.csv\")\n",
        "\n",
        "# return the first 5 rows of the data frame\n",
        "df.head()"
      ],
      "metadata": {
        "id": "W6HE_6T8Xiuo"
      },
      "execution_count": null,
      "outputs": []
    },
    {
      "cell_type": "markdown",
      "source": [
        "What do you notice about the columns? What kind of information does the Manhattan Chocolate Society collect about each type of chocolate?\n",
        "\n",
        "We can print the \"length\" of the data frame to see how many rows there are:"
      ],
      "metadata": {
        "id": "SGhUVfYntMY5"
      }
    },
    {
      "cell_type": "code",
      "source": [
        "# return the number of rows in the data frame\n",
        "len(df)"
      ],
      "metadata": {
        "id": "SK2Xvbx1tUp9"
      },
      "execution_count": null,
      "outputs": []
    },
    {
      "cell_type": "markdown",
      "source": [
        "Wow, that's a lot of chocolate!"
      ],
      "metadata": {
        "id": "K40BxChy0WQU"
      }
    },
    {
      "cell_type": "markdown",
      "source": [
        "## A closer look at chocolate ratings\n",
        "\n",
        "Now let's calculate some \"summary statistics\" for the chocolate ratings. These are things like the mean (or average) of the data or other information about its distribution.\n",
        "\n",
        "What do you think the average rating will be?"
      ],
      "metadata": {
        "id": "Ti9hhMzTtYtp"
      }
    },
    {
      "cell_type": "code",
      "source": [
        "# calculate mean and median for the chocolate rating\n",
        "print(\"Rating\")\n",
        "print(\"mean:\", df[\"Rating\"].mean())\n",
        "print(\"median:\", df[\"Rating\"].median())"
      ],
      "metadata": {
        "id": "CGBspvHmtoQ6"
      },
      "execution_count": null,
      "outputs": []
    },
    {
      "cell_type": "markdown",
      "source": [
        "We can create histograms as well:"
      ],
      "metadata": {
        "id": "UcOiFirEwUuk"
      }
    },
    {
      "cell_type": "code",
      "source": [
        "# creating a histogram for chocolate ratings\n",
        "print(\"Distribution of Chocolate Rating\")\n",
        "print(df[\"Rating\"].hist())"
      ],
      "metadata": {
        "id": "WEaWGa2dyHl2"
      },
      "execution_count": null,
      "outputs": []
    },
    {
      "cell_type": "markdown",
      "source": [
        "What do you notice about the distribution of ratings?"
      ],
      "metadata": {
        "id": "M4_9uef106-Y"
      }
    },
    {
      "cell_type": "markdown",
      "source": [
        "We can also create box plots to visualize these variables and identify outliers:"
      ],
      "metadata": {
        "id": "E5Y35pgLwJ6Y"
      }
    },
    {
      "cell_type": "code",
      "source": [
        "# create a boxplot for chocolate ratings\n",
        "sns.boxplot(x=df['Rating'])"
      ],
      "metadata": {
        "id": "zDHvqYoBYkcD"
      },
      "execution_count": null,
      "outputs": []
    },
    {
      "cell_type": "markdown",
      "source": [
        "## Now it's your turn! \n",
        "Try to calculate the mean and median and make a histogram and boxplot for the Cocoa percent.\n",
        "\n",
        "Hint: You can copy and paste the code above and change \"Rating\" to \"Cocoa Percent\""
      ],
      "metadata": {
        "id": "_gHNNEdj1iLF"
      }
    },
    {
      "cell_type": "code",
      "source": [
        "# calculate mean and median for the cocoa percent\n",
        "# add your code here:"
      ],
      "metadata": {
        "id": "9U9b-feW1J5D"
      },
      "execution_count": null,
      "outputs": []
    },
    {
      "cell_type": "code",
      "source": [
        "# create a histogram for cocoa percent\n",
        "# add your code here:"
      ],
      "metadata": {
        "id": "GLxHv1Jt1zmZ"
      },
      "execution_count": null,
      "outputs": []
    },
    {
      "cell_type": "code",
      "source": [
        "# create a boxplot for cocoa percent\n",
        "# add your code here:"
      ],
      "metadata": {
        "id": "Rt9O5tTP13mw"
      },
      "execution_count": null,
      "outputs": []
    }
  ]
}