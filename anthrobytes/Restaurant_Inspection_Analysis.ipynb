{
  "nbformat": 4,
  "nbformat_minor": 0,
  "metadata": {
    "colab": {
      "provenance": []
    },
    "kernelspec": {
      "name": "python3",
      "display_name": "Python 3"
    }
  },
  "cells": [
    {
      "cell_type": "markdown",
      "metadata": {
        "id": "wTr2uUF5hN9j"
      },
      "source": [
        "#Exploring NYC restaurant data with Python\n",
        "##New York City Food Inspections\n",
        "by Olivia Limone"
      ]
    },
    {
      "cell_type": "code",
      "metadata": {
        "id": "e2Dej1VFS0IX"
      },
      "source": [
        "#importing libraries\n",
        "\n",
        "import pandas as pd\n",
        "import numpy as np\n",
        "import altair as alt\n",
        "import matplotlib.pyplot as plt\n"
      ],
      "execution_count": null,
      "outputs": []
    },
    {
      "cell_type": "markdown",
      "metadata": {
        "id": "ihiWCkaHw8NH"
      },
      "source": [
        "##Data Source\n",
        "I got my data from NYC Open Data. The data set I used was [DOHMH New York City Restaurant Inspection Results](https://data.cityofnewyork.us/Health/DOHMH-New-York-City-Restaurant-Inspection-Results/43nn-pn8j). "
      ]
    },
    {
      "cell_type": "code",
      "metadata": {
        "id": "odRIiQANhmhd"
      },
      "source": [
        "#saving my API call as a string\n",
        "#I will only be looking at data from Manhattan, so filtering where boro = \"Manhattan\" \n",
        "api_call = \"https://data.cityofnewyork.us/resource/43nn-pn8j.csv?$query=SELECT * WHERE boro = 'Manhattan' LIMIT 200000\"\n",
        "\n",
        "#fixing spaces in URL\n",
        "formatted_api_call = api_call.replace(\" \",\"%20\")\n",
        "\n",
        "food_inspections = pd.read_csv(formatted_api_call)\n",
        "food_inspections"
      ],
      "execution_count": null,
      "outputs": []
    },
    {
      "cell_type": "markdown",
      "metadata": {
        "id": "Yrw37Rl_wvEM"
      },
      "source": [
        "##Data Analysis\n",
        "\n",
        "###Question 1: What is the distribution of letter grades among restaurants in Manhattan?\n",
        "\n",
        "\n"
      ]
    },
    {
      "cell_type": "markdown",
      "metadata": {
        "id": "yTSFOK2EsSMw"
      },
      "source": [
        "Step 1: Count up the number of letter grades by each type."
      ]
    },
    {
      "cell_type": "code",
      "metadata": {
        "id": "IfeNZyjowW15"
      },
      "source": [
        "#counting the number of letter grades by the column 'grade'\n",
        "grade_totals = food_inspections.groupby(['grade']).camis.count() #\"camis\" is the unique identifier for each restaurant\n",
        "\n",
        "grade_totals"
      ],
      "execution_count": null,
      "outputs": []
    },
    {
      "cell_type": "markdown",
      "metadata": {
        "id": "rKUo3H5csgIy"
      },
      "source": [
        "Step 2: Create a bar graph to graph these different values, with each grade on the x-axis and number of restaurants with that grade on the y-axis. "
      ]
    },
    {
      "cell_type": "code",
      "metadata": {
        "id": "Z2Wc89xY0wuX"
      },
      "source": [
        "#making a bar chart portraying this information using matplotlib\n",
        "objects = ('A', 'B', 'C', 'G', 'N', 'P', 'Z')\n",
        "y_pos = np.arange(len(objects))\n",
        "performance = grade_totals\n",
        "\n",
        "plt.bar(y_pos, performance, align='center', alpha=0.5, color=('#e2a7d9', '#ed7117', '#fef8b1', '#000000', '#ed7117', '#ec9707', '#fadadd' ),  edgecolor='blue')\n",
        "plt.xticks(y_pos, objects)\n",
        "plt.ylabel('Number of Restuarants')\n",
        "plt.xlabel('Grade')\n",
        "plt.title('Grade Distribution of Restuarants in Manhattan')\n",
        "\n",
        "#adding text labels to each bar \n",
        "for i, v in enumerate(performance):\n",
        "  plt.text(i - 0.3, v + .01, str(v))\n",
        "\n",
        "#displaying graph \n",
        "plt.show()\n",
        "\n",
        "#source for help with matplotlib code: https://pythonspot.com/matplotlib-bar-chart/ and https://matplotlib.org/api/pyplot_api.html and https://stackoverflow.com/questions/30228069/how-to-display-the-value-of-the-bar-on-each-bar-with-pyplot-barh\n",
        "#help with colors: https://python-graph-gallery.com/3-control-color-of-barplots/\n"
      ],
      "execution_count": null,
      "outputs": []
    },
    {
      "cell_type": "markdown",
      "metadata": {
        "id": "5MFKR9Ckw3C1"
      },
      "source": [
        "###Question 2: What are the most common health violations among restuarants in Manhattan?"
      ]
    },
    {
      "cell_type": "markdown",
      "metadata": {
        "id": "Jkw6zbl2sxAk"
      },
      "source": [
        "Step 1: Count the number of health violations by type, and then filter out the top five."
      ]
    },
    {
      "cell_type": "code",
      "metadata": {
        "id": "8GpARhRGy_67"
      },
      "source": [
        "violation_totals = (\n",
        "  food_inspections\n",
        "    .loc[:, ['violation_code','camis']]\n",
        "    .groupby(['violation_code'])\n",
        "    .count()\n",
        "    .reset_index()\n",
        "    .sort_values(\"camis\",ascending= False)\n",
        ")\n",
        "\n",
        "#filtering out just the top 5 values\n",
        "top_5 = violation_totals.nlargest(5,'camis')"
      ],
      "execution_count": null,
      "outputs": []
    },
    {
      "cell_type": "code",
      "metadata": {
        "id": "1eN0Tyrryjnp"
      },
      "source": [
        "top_5"
      ],
      "execution_count": null,
      "outputs": []
    },
    {
      "cell_type": "markdown",
      "metadata": {
        "id": "lUsEV_v0tAEO"
      },
      "source": [
        "Step 2: Create a bar graph portraying each violation code (on the x-axis) and the frequency in which they occured (on the y-axis)."
      ]
    },
    {
      "cell_type": "code",
      "metadata": {
        "id": "chMKFv9UwAQL"
      },
      "source": [
        "#making a bar chart portraying this information using matplotlib\n",
        "x = top_5['violation_code']\n",
        "y = top_5['camis']\n",
        "\n",
        "plt.bar(x,y, color=['pink', 'red', 'green', 'yellow', 'cyan'])\n",
        "plt.ylabel('Number of violations')\n",
        "plt.xlabel('Violation Code')\n",
        "plt.title('Top 5 Health Violations in Manhattan')\n",
        "\n",
        "#adding text labels to each bar \n",
        "for i, v in enumerate(y):\n",
        "  plt.text(i - .3 , v + .6, str(v))\n",
        "\n",
        "#displaying graph \n",
        "plt.show()"
      ],
      "execution_count": null,
      "outputs": []
    },
    {
      "cell_type": "markdown",
      "metadata": {
        "id": "9aW4Ha1-zBnz"
      },
      "source": [
        "###Question 3: What is the grade breakdown by cuisine?"
      ]
    },
    {
      "cell_type": "markdown",
      "metadata": {
        "id": "0DIqq_TJtKzD"
      },
      "source": [
        "Step 1: Count the frequency of grades by cuisine type."
      ]
    },
    {
      "cell_type": "code",
      "metadata": {
        "id": "36NJ5qfCzegF"
      },
      "source": [
        "grade_BD_by_cuisine = food_inspections.groupby(['cuisine_description', 'grade']).agg(n_gradeBD = ('camis', \"count\")).sort_values([\"n_gradeBD\"],ascending=False).reset_index()\n",
        "\n",
        "grade_BD_by_cuisine\n"
      ],
      "execution_count": null,
      "outputs": []
    },
    {
      "cell_type": "markdown",
      "metadata": {
        "id": "CCZvhOhDtU8Y"
      },
      "source": [
        "Step 2: Filter out a select few types of cuisines and the main three grades (A,B,C) in order to create a bar graph that is meaningful and easy to look at. "
      ]
    },
    {
      "cell_type": "code",
      "metadata": {
        "id": "3eou0Axvm0bi"
      },
      "source": [
        "#First, I keep only A,B,C grades in the dataset\n",
        "new_grade_BD_by_cuisine = grade_BD_by_cuisine[grade_BD_by_cuisine['grade'].isin(['A','B','C'])]\n",
        "#Then I select six types of popular cuisines as you can see below.\n",
        "new_grade_BD_by_selected_cuisine = new_grade_BD_by_cuisine[new_grade_BD_by_cuisine['cuisine_description'].isin(['American', 'Café/Coffee/Tea', 'Italian', 'Chinese', 'Japanese', 'Pizza'])]\n",
        "\n",
        "new_grade_BD_by_selected_cuisine"
      ],
      "execution_count": null,
      "outputs": []
    },
    {
      "cell_type": "markdown",
      "metadata": {
        "id": "ixoSM5jItgbw"
      },
      "source": [
        "Step 3: Pivot the table so A, B, and C have their own columns, and that the selected cuisine types each have their own row."
      ]
    },
    {
      "cell_type": "code",
      "metadata": {
        "id": "BVdsB7Fxn-QK"
      },
      "source": [
        "selected_cuisine_pivoted = new_grade_BD_by_selected_cuisine.pivot(index = 'cuisine_description', columns = 'grade', values = 'n_gradeBD').reset_index()\n",
        "\n",
        "selected_cuisine_pivoted"
      ],
      "execution_count": null,
      "outputs": []
    },
    {
      "cell_type": "markdown",
      "metadata": {
        "id": "wx-StIxutqa-"
      },
      "source": [
        "Step 4: Create a bar graph with cuisine types on the x-axis, and each grade's frequency is represented by a different color bar."
      ]
    },
    {
      "cell_type": "code",
      "metadata": {
        "id": "y1PtzxbGcUmq"
      },
      "source": [
        "#Making the graph where types of cuisine is on the x-axis and each grade is a bar\n",
        "\n",
        "y1 = selected_cuisine_pivoted['A']\n",
        "y2 = selected_cuisine_pivoted['B']\n",
        "y3 = selected_cuisine_pivoted['C']\n",
        "x_labels = selected_cuisine_pivoted['cuisine_description']\n",
        "X = np.arange(6)\n",
        "\n",
        "plt.xticks(X,x_labels) \n",
        "plt.bar(X - 0.20, y1, label=\"A\", color = '#FFB6C1', width = 0.20)\n",
        "plt.bar(X, y2, label=\"B\", color = '#CCCCFF', width = 0.20)\n",
        "plt.bar(X + 0.20, y3, label=\"C\", color = '#FCEEA7', width = 0.20)\n",
        "plt.xlabel(\"Cuisine\")\n",
        "plt.ylabel(\"Number of Grades\")\n",
        "plt.xticks(rotation = 90) #rotating because the cuisine names are too long\n",
        "plt.title(\"Grade breakdown by cuisine in Manhattan\")\n",
        "plt.legend()\n",
        "plt.show()\n"
      ],
      "execution_count": null,
      "outputs": []
    }
  ]
}